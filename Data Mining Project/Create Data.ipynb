{
 "cells": [
  {
   "cell_type": "code",
   "execution_count": 36,
   "metadata": {},
   "outputs": [],
   "source": [
    "import numpy as np\n",
    "import pandas as pd\n",
    "import os"
   ]
  },
  {
   "cell_type": "code",
   "execution_count": 38,
   "metadata": {},
   "outputs": [],
   "source": [
    "P1 = pd.read_csv('English Data/Train Pos Data/train_pos_reviews.csv', header=None)\n",
    "N1 = pd.read_csv('English Data/Train Neg Data/train_neg_reviews.csv', header=None)\n",
    "P2 = pd.read_csv('English Data/Test Pos Data/test_pos_reviews.csv', header=None)\n",
    "N2 = pd.read_csv('English Data/Test Neg Data/test_neg_reviews.csv', header=None)\n",
    "\n",
    "\n",
    "PL1 = pd.read_csv('English Data/Train Pos Data/train_pos_Labels.csv', header=None)\n",
    "NL2 = pd.read_csv('English Data/Train Neg Data/train_neg_Labels.csv', header=None)\n",
    "PL2 = pd.read_csv('English Data/Test Pos Data/test_pos_Labels.csv', header=None)\n",
    "NL2 = pd.read_csv('English Data/Test Neg Data/test_neg_Labels.csv', header=None)\n"
   ]
  },
  {
   "cell_type": "code",
   "execution_count": 52,
   "metadata": {},
   "outputs": [],
   "source": [
    "Reviews = pd.concat([P1, P2, N1, N2])\n",
    "Labels = pd.concat([PL1, PL2, NL1, NL2])\n",
    "\n",
    "binary_Labels = pd.DataFrame(1*(Labels  > 5))"
   ]
  },
  {
   "cell_type": "code",
   "execution_count": 53,
   "metadata": {},
   "outputs": [],
   "source": [
    "Data = pd.concat([Reviews, Labels, binary_Labels], axis=1)\n",
    "Data.columns = ['Review', 'Rating', 'Class']\n"
   ]
  },
  {
   "cell_type": "code",
   "execution_count": 55,
   "metadata": {},
   "outputs": [],
   "source": [
    "Data.to_csv('Full_Data.csv', index=None)"
   ]
  },
  {
   "cell_type": "code",
   "execution_count": null,
   "metadata": {},
   "outputs": [],
   "source": []
  },
  {
   "cell_type": "code",
   "execution_count": 59,
   "metadata": {},
   "outputs": [
    {
     "data": {
      "text/plain": [
       "['Neg.csv', 'Pos.csv']"
      ]
     },
     "execution_count": 59,
     "metadata": {},
     "output_type": "execute_result"
    }
   ],
   "source": [
    "os.listdir('Microsoft Translated Hind Data')"
   ]
  },
  {
   "cell_type": "code",
   "execution_count": 61,
   "metadata": {},
   "outputs": [],
   "source": [
    "Pos = pd.read_csv('Microsoft Translated Hind Data/Pos.csv', header=None)\n",
    "Neg = pd.read_csv('Microsoft Translated Hind Data/Neg.csv', header=None)"
   ]
  },
  {
   "cell_type": "code",
   "execution_count": 68,
   "metadata": {},
   "outputs": [],
   "source": [
    "full_data = pd.concat([Pos, Neg])\n",
    "full_data.columns = ['English', 'Hindi', 'Ratings']\n",
    "full_data['Class'] = 1*(full_data['Ratings'] > 5)"
   ]
  },
  {
   "cell_type": "code",
   "execution_count": 70,
   "metadata": {},
   "outputs": [],
   "source": [
    "full_data.to_csv('Microsoft Translated Hind Data/Full_Data.csv', index=None)"
   ]
  }
 ],
 "metadata": {
  "kernelspec": {
   "display_name": "Python 3",
   "language": "python",
   "name": "python3"
  },
  "language_info": {
   "codemirror_mode": {
    "name": "ipython",
    "version": 3
   },
   "file_extension": ".py",
   "mimetype": "text/x-python",
   "name": "python",
   "nbconvert_exporter": "python",
   "pygments_lexer": "ipython3",
   "version": "3.7.0"
  }
 },
 "nbformat": 4,
 "nbformat_minor": 2
}
