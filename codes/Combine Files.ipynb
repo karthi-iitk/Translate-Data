{
 "cells": [
  {
   "cell_type": "code",
   "execution_count": 23,
   "metadata": {},
   "outputs": [],
   "source": [
    "import numpy as np\n",
    "import pandas as pd\n",
    "import os"
   ]
  },
  {
   "cell_type": "code",
   "execution_count": 24,
   "metadata": {},
   "outputs": [
    {
     "data": {
      "text/plain": [
       "['Terminal.txt',\n",
       " 'New_Translate_cog_neg.py',\n",
       " '.DS_Store',\n",
       " '50_100.csv',\n",
       " 'Neg.csv',\n",
       " '450_500.csv',\n",
       " '550_600.csv',\n",
       " '250_300.csv',\n",
       " '500_550.csv',\n",
       " '400_450.csv',\n",
       " 'Final Data',\n",
       " 'Pos.csv',\n",
       " '200_250.csv',\n",
       " 'Results_neg',\n",
       " 'New_Translate_cog.py',\n",
       " '300_400.csv',\n",
       " '150_200.csv',\n",
       " '650_700.csv',\n",
       " '25_50.csv',\n",
       " '0_25.csv',\n",
       " '.git',\n",
       " '600_650.csv',\n",
       " 'Train Neg Data',\n",
       " '700_750.csv',\n",
       " '100_150.csv']"
      ]
     },
     "execution_count": 24,
     "metadata": {},
     "output_type": "execute_result"
    }
   ],
   "source": [
    "dir_name = 'Results/'\n",
    "os.listdir(dir_name)"
   ]
  },
  {
   "cell_type": "code",
   "execution_count": null,
   "metadata": {},
   "outputs": [],
   "source": [
    " '650_700.csv',\n",
    " '600_650.csv',\n",
    " '700_750.csv',\n"
   ]
  },
  {
   "cell_type": "code",
   "execution_count": 25,
   "metadata": {},
   "outputs": [],
   "source": [
    "f0_25 = pd.read_csv(dir_name +'0_25.csv', header=None)\n",
    "f0_25.columns = ['Eng', 'Hin', 'Label']\n",
    "\n",
    "f25_50 = pd.read_csv(dir_name +'25_50.csv', header=None)\n",
    "f25_50.columns = ['Eng', 'Hin', 'Label']\n",
    "\n",
    "f50_100 = pd.read_csv(dir_name +'50_100.csv', header=None)\n",
    "f50_100.columns = ['Eng', 'Hin', 'Label']\n",
    "\n",
    "f100_150 = pd.read_csv(dir_name +'100_150.csv', header=None)\n",
    "f100_150.columns = ['Eng', 'Hin', 'Label']\n",
    "\n",
    "f150_200 = pd.read_csv(dir_name +'150_200.csv', header=None)\n",
    "f150_200.columns = ['Eng', 'Hin', 'Label']\n",
    "\n",
    "f200_250 = pd.read_csv(dir_name +'200_250.csv', header=None)\n",
    "f200_250.columns = ['Eng', 'Hin', 'Label']\n",
    "\n",
    "f250_300 = pd.read_csv(dir_name +'250_300.csv', header=None)\n",
    "f250_300.columns = ['Eng', 'Hin', 'Label']\n",
    "\n",
    "f300_400 = pd.read_csv(dir_name +'300_400.csv', header=None)\n",
    "f300_400.columns = ['Eng', 'Hin', 'Label']\n",
    "\n",
    "f400_450 = pd.read_csv(dir_name +'400_450.csv', header=None)\n",
    "f400_450.columns = ['Eng', 'Hin', 'Label']\n",
    "\n",
    "f450_500 = pd.read_csv(dir_name +'450_500.csv', header=None)\n",
    "f450_500.columns = ['Eng', 'Hin', 'Label']\n",
    "\n",
    "f500_550 = pd.read_csv(dir_name +'500_550.csv', header=None)\n",
    "f500_550.columns = ['Eng', 'Hin', 'Label']\n",
    "\n",
    "f550_600 = pd.read_csv(dir_name +'550_600.csv', header=None)\n",
    "f550_600.columns = ['Eng', 'Hin', 'Label']\n",
    "\n",
    "f600_650 = pd.read_csv(dir_name +'600_650.csv', header=None)\n",
    "f600_650.columns = ['Eng', 'Hin', 'Label']\n",
    "\n",
    "\n",
    "f650_700 = pd.read_csv(dir_name +'650_700.csv', header=None)\n",
    "f650_700.columns = ['Eng', 'Hin', 'Label']\n",
    "\n",
    "f700_750 = pd.read_csv(dir_name +'700_750.csv', header=None)\n",
    "f700_750.columns = ['Eng', 'Hin', 'Label']"
   ]
  },
  {
   "cell_type": "code",
   "execution_count": 26,
   "metadata": {},
   "outputs": [],
   "source": [
    "frames = [f0_25, f25_50, f50_100, f100_150, f150_200, f200_250, f250_300, f300_400, f400_450, f450_500, \n",
    "         f500_550, f550_600, f600_650, f650_700, f700_750]\n",
    "\n",
    "result = pd.concat(frames)"
   ]
  },
  {
   "cell_type": "code",
   "execution_count": null,
   "metadata": {},
   "outputs": [],
   "source": []
  },
  {
   "cell_type": "code",
   "execution_count": 27,
   "metadata": {},
   "outputs": [],
   "source": [
    "result.to_csv('Pos.csv' , header=False, index=False)"
   ]
  },
  {
   "cell_type": "code",
   "execution_count": null,
   "metadata": {},
   "outputs": [],
   "source": []
  },
  {
   "cell_type": "code",
   "execution_count": 28,
   "metadata": {},
   "outputs": [
    {
     "data": {
      "text/plain": [
       "['0_2.csv',\n",
       " '400_500.csv',\n",
       " '50_150.csv',\n",
       " '500_600.csv',\n",
       " '0_50.csv',\n",
       " '150_300.csv',\n",
       " '300_400.csv',\n",
       " '650_700.csv',\n",
       " '600_650.csv',\n",
       " '700_750.csv']"
      ]
     },
     "execution_count": 28,
     "metadata": {},
     "output_type": "execute_result"
    }
   ],
   "source": [
    "dir_name = 'Results_neg/'\n",
    "os.listdir(dir_name)\n"
   ]
  },
  {
   "cell_type": "code",
   "execution_count": 29,
   "metadata": {},
   "outputs": [],
   "source": [
    "f0_50 = pd.read_csv(dir_name +'0_50.csv', header=None)\n",
    "f0_50.columns = ['Eng', 'Hin', 'Label']\n",
    "\n",
    "f50_150 = pd.read_csv(dir_name +'50_150.csv', header=None)\n",
    "f50_150.columns = ['Eng', 'Hin', 'Label']\n",
    "\n",
    "f150_300 = pd.read_csv(dir_name +'150_300.csv', header=None)\n",
    "f150_300.columns = ['Eng', 'Hin', 'Label']\n",
    "\n",
    "f300_400 = pd.read_csv(dir_name +'300_400.csv', header=None)\n",
    "f300_400.columns = ['Eng', 'Hin', 'Label']\n",
    "\n",
    "f400_500 = pd.read_csv(dir_name +'400_500.csv', header=None)\n",
    "f400_500.columns = ['Eng', 'Hin', 'Label']\n",
    "\n",
    "f500_600 = pd.read_csv(dir_name +'500_600.csv', header=None)\n",
    "f500_600.columns = ['Eng', 'Hin', 'Label']\n",
    "\n",
    "f600_650 = pd.read_csv(dir_name +'600_650.csv', header=None)\n",
    "f600_650.columns = ['Eng', 'Hin', 'Label']\n",
    "\n",
    "f650_700 = pd.read_csv(dir_name +'650_700.csv', header=None)\n",
    "f650_700.columns = ['Eng', 'Hin', 'Label']\n",
    "\n",
    "f700_750 = pd.read_csv(dir_name +'700_750.csv', header=None)\n",
    "f700_750.columns = ['Eng', 'Hin', 'Label']"
   ]
  },
  {
   "cell_type": "code",
   "execution_count": 30,
   "metadata": {},
   "outputs": [],
   "source": [
    "frames = [f0_50, f50_150, f150_300,f300_400, f400_500, f500_600, f600_650, f650_700, f700_750 ]\n",
    "\n",
    "result = pd.concat(frames)"
   ]
  },
  {
   "cell_type": "code",
   "execution_count": 31,
   "metadata": {},
   "outputs": [],
   "source": [
    "result.to_csv('Neg.csv' , header=False, index=False)"
   ]
  }
 ],
 "metadata": {
  "kernelspec": {
   "display_name": "Python 3",
   "language": "python",
   "name": "python3"
  },
  "language_info": {
   "codemirror_mode": {
    "name": "ipython",
    "version": 3
   },
   "file_extension": ".py",
   "mimetype": "text/x-python",
   "name": "python",
   "nbconvert_exporter": "python",
   "pygments_lexer": "ipython3",
   "version": "3.7.0"
  }
 },
 "nbformat": 4,
 "nbformat_minor": 2
}
