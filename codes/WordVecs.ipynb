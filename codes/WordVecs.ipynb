{
 "cells": [
  {
   "cell_type": "code",
   "execution_count": 1,
   "metadata": {},
   "outputs": [],
   "source": [
    "import gensim\n",
    "import numpy as np\n",
    "import pandas as pd\n",
    "import os\n"
   ]
  },
  {
   "cell_type": "code",
   "execution_count": 2,
   "metadata": {},
   "outputs": [],
   "source": [
    "from gensim.models import KeyedVectors\n",
    "filename = 'GoogleNews-vectors-negative300.bin'\n",
    "model = KeyedVectors.load_word2vec_format(filename, binary=True)"
   ]
  },
  {
   "cell_type": "code",
   "execution_count": 21,
   "metadata": {},
   "outputs": [],
   "source": [
    "def getVector(multi_word):\n",
    "    a = np.zeros(300)\n",
    "    multi_word_list = multi_word.split(' ')\n",
    "    for i in range(len(multi_word_list)):\n",
    "        try:\n",
    "            a = a + np.array(model.word_vec(VocabList[i]))\n",
    "        except:\n",
    "            a = a + 0\n",
    "    a = a/(len(multi_word_list))\n",
    "    return a\n",
    "    "
   ]
  },
  {
   "cell_type": "code",
   "execution_count": 32,
   "metadata": {},
   "outputs": [],
   "source": [
    "Vocab = pd.read_csv('Vocab.csv', header=None)\n",
    "Vocab.columns = ['Hin' , 'Eng']\n",
    "VocabList = Vocab['Eng']\n",
    "VocabListHindi = Vocab['Hin']"
   ]
  },
  {
   "cell_type": "code",
   "execution_count": 33,
   "metadata": {},
   "outputs": [],
   "source": [
    "Vecs = []\n",
    "count = 0\n",
    "Error_index = []\n",
    "dict_vocab = {}\n",
    "for i in range(len(VocabList)):\n",
    "    try:\n",
    "        Vecs.append(np.array(model.word_vec(VocabList[i])))\n",
    "        dict_vocab[VocabListHindi[i]] = np.array(model.word_vec(VocabList[i]))\n",
    "    except:\n",
    "        Vecs.append(getVector(VocabList[i]))\n",
    "        dict_vocab[VocabListHindi[i]] = getVector(VocabList[i])\n",
    "        "
   ]
  },
  {
   "cell_type": "code",
   "execution_count": 34,
   "metadata": {},
   "outputs": [],
   "source": [
    "import pickle\n",
    "\n",
    "filehandler = open(\"VocabDict.obj\",\"wb\")\n",
    "pickle.dump(dict_vocab,filehandler)\n",
    "filehandler.close()"
   ]
  },
  {
   "cell_type": "code",
   "execution_count": 26,
   "metadata": {},
   "outputs": [],
   "source": [
    "Vocab_Vecs = pd.concat([Vocab,pd.DataFrame(Vecs)] , axis=1 )\n",
    "# pd.DataFrame(Vecs)"
   ]
  },
  {
   "cell_type": "code",
   "execution_count": 27,
   "metadata": {},
   "outputs": [],
   "source": [
    "Vocab_Vecs.to_csv('Vocab_Vecs.csv', header=None, index=False)"
   ]
  }
 ],
 "metadata": {
  "kernelspec": {
   "display_name": "Python 3",
   "language": "python",
   "name": "python3"
  },
  "language_info": {
   "codemirror_mode": {
    "name": "ipython",
    "version": 3
   },
   "file_extension": ".py",
   "mimetype": "text/x-python",
   "name": "python",
   "nbconvert_exporter": "python",
   "pygments_lexer": "ipython3",
   "version": "3.7.0"
  }
 },
 "nbformat": 4,
 "nbformat_minor": 2
}
