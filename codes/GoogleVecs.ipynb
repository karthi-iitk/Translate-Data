{
 "cells": [
  {
   "cell_type": "code",
   "execution_count": 1,
   "metadata": {},
   "outputs": [],
   "source": [
    "import gensim\n",
    "import numpy as np\n",
    "import pandas as pd\n",
    "import os"
   ]
  },
  {
   "cell_type": "code",
   "execution_count": 2,
   "metadata": {},
   "outputs": [],
   "source": [
    "pos = pd.read_csv('Final Data/pos.csv')\n",
    "pos.columns = ['Eng', 'Hin' , 'Labels']\n",
    "\n",
    "neg = pd.read_csv('Final Data/neg.csv')\n",
    "neg.columns = ['Eng', 'Hin' , 'Labels']\n",
    "\n",
    "data = pd.concat([pos, neg])\n",
    "data = data.reset_index(drop=True)"
   ]
  },
  {
   "cell_type": "code",
   "execution_count": 3,
   "metadata": {},
   "outputs": [],
   "source": [
    "X_Hin = np.array(data['Hin'])\n",
    "Label = np.array(data['Labels'])\n"
   ]
  },
  {
   "cell_type": "code",
   "execution_count": 4,
   "metadata": {},
   "outputs": [],
   "source": [
    "from nltk.tokenize import word_tokenize\n",
    "import nltk\n",
    "\n",
    "X_token = []\n",
    "for i in range(len(X_Hin)):\n",
    "    X_token.append(word_tokenize(X_Hin[i]))\n",
    "    \n"
   ]
  },
  {
   "cell_type": "code",
   "execution_count": 47,
   "metadata": {},
   "outputs": [],
   "source": [
    "import pickle\n",
    "file = open(\"VocabDict.obj\",'rb')\n",
    "dict_vocab = pickle.load(file)\n",
    "file.close()"
   ]
  },
  {
   "cell_type": "code",
   "execution_count": null,
   "metadata": {},
   "outputs": [],
   "source": []
  },
  {
   "cell_type": "code",
   "execution_count": 5,
   "metadata": {},
   "outputs": [],
   "source": [
    "from gensim.models.doc2vec import Doc2Vec, TaggedDocument\n",
    "\n",
    "documents = [TaggedDocument(doc, [i]) for i, doc in enumerate(X_token)]\n",
    "model_doc2vec = Doc2Vec(documents, vector_size=50, window=2, min_count=3, workers=4)"
   ]
  },
  {
   "cell_type": "code",
   "execution_count": 6,
   "metadata": {},
   "outputs": [],
   "source": [
    "vocab_List = list(model_doc2vec.wv.vocab.keys())\n",
    "vocab_df = pd.DataFrame(vocab_List)\n",
    "vocab_df.to_csv('Vocab.csv', header=None, index=False)"
   ]
  },
  {
   "cell_type": "code",
   "execution_count": 7,
   "metadata": {},
   "outputs": [],
   "source": [
    "count = 0\n",
    "new_vocab_List = []\n",
    "temp_list = []\n",
    "for i in range(len(vocab_List)):\n",
    "    count = count + len(vocab_List[i])\n",
    "    if count > 4000:\n",
    "        new_vocab_List.append(temp_list)\n",
    "        temp_list = []\n",
    "        count = 0\n",
    "    temp_list.append(vocab_List[i])\n",
    "new_vocab_List.append(temp_list)"
   ]
  },
  {
   "cell_type": "code",
   "execution_count": 39,
   "metadata": {},
   "outputs": [],
   "source": [
    "from gensim.models import KeyedVectors\n",
    "filename = 'GoogleNews-vectors-negative300.bin'\n",
    "model = KeyedVectors.load_word2vec_format(filename, binary=True)"
   ]
  },
  {
   "cell_type": "code",
   "execution_count": 8,
   "metadata": {},
   "outputs": [
    {
     "data": {
      "text/plain": [
       "7440"
      ]
     },
     "execution_count": 8,
     "metadata": {},
     "output_type": "execute_result"
    }
   ],
   "source": [
    "len(vocab_List)"
   ]
  },
  {
   "cell_type": "code",
   "execution_count": 9,
   "metadata": {},
   "outputs": [],
   "source": [
    "file = open('Vocab_translated.txt')\n",
    "Vocab_Eng = file.read().split('\\n')"
   ]
  },
  {
   "cell_type": "code",
   "execution_count": 10,
   "metadata": {},
   "outputs": [],
   "source": [
    "vocab_df['Eng'] = np.array(Vocab_Eng)\n",
    "vocab_df.columns = ['Hin' , 'Eng']\n",
    "vocab_df.to_csv('Vocab.csv', header=None, index=False)"
   ]
  },
  {
   "cell_type": "code",
   "execution_count": null,
   "metadata": {},
   "outputs": [],
   "source": []
  },
  {
   "cell_type": "code",
   "execution_count": 75,
   "metadata": {},
   "outputs": [
    {
     "name": "stderr",
     "output_type": "stream",
     "text": [
      "/Users/karthikeyan/anaconda3/lib/python3.7/site-packages/ipykernel_launcher.py:9: DeprecationWarning: Call to deprecated `iter` (Attribute will be removed in 4.0.0, use self.epochs instead).\n",
      "  if __name__ == '__main__':\n"
     ]
    }
   ],
   "source": [
    "model_doc2vec_new = Doc2Vec(vector_size=300, window=2, min_count=3, workers=4, dm=1, alpha=0.025, min_alpha=0.025)\n",
    "model_doc2vec_new.build_vocab(documents)\n",
    "\n",
    "for i in range(len(vocab_List)):\n",
    "    model_doc2vec_new.wv[vocab_List[i]] = dict_vocab[vocab_List[i]]\n",
    "    \n",
    "for epoch in range(2):\n",
    "    model_doc2vec_new.train(documents, total_examples=model_doc2vec_new.corpus_count,\n",
    "                epochs=model_doc2vec_new.iter)\n",
    "\n"
   ]
  },
  {
   "cell_type": "code",
   "execution_count": null,
   "metadata": {},
   "outputs": [],
   "source": []
  },
  {
   "cell_type": "code",
   "execution_count": null,
   "metadata": {},
   "outputs": [],
   "source": []
  }
 ],
 "metadata": {
  "kernelspec": {
   "display_name": "Python 3",
   "language": "python",
   "name": "python3"
  },
  "language_info": {
   "codemirror_mode": {
    "name": "ipython",
    "version": 3
   },
   "file_extension": ".py",
   "mimetype": "text/x-python",
   "name": "python",
   "nbconvert_exporter": "python",
   "pygments_lexer": "ipython3",
   "version": "3.7.0"
  }
 },
 "nbformat": 4,
 "nbformat_minor": 2
}
